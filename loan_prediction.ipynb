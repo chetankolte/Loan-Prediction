{
  "nbformat": 4,
  "nbformat_minor": 0,
  "metadata": {
    "colab": {
      "name": "loan_prediction.ipynb",
      "version": "0.3.2",
      "provenance": [],
      "collapsed_sections": [],
      "include_colab_link": true
    },
    "kernelspec": {
      "name": "python3",
      "display_name": "Python 3"
    }
  },
  "cells": [
    {
      "cell_type": "markdown",
      "metadata": {
        "id": "view-in-github",
        "colab_type": "text"
      },
      "source": [
        "<a href=\"https://colab.research.google.com/github/chetankolte/Loan-Prediction/blob/master/loan_prediction.ipynb\" target=\"_parent\"><img src=\"https://colab.research.google.com/assets/colab-badge.svg\" alt=\"Open In Colab\"/></a>"
      ]
    },
    {
      "metadata": {
        "id": "A-X8EBZQeGXV",
        "colab_type": "code",
        "outputId": "086df15f-af10-4c9b-9ac9-352bc4d5f67a",
        "colab": {
          "base_uri": "https://localhost:8080/",
          "height": 51
        }
      },
      "cell_type": "code",
      "source": [
        "!pip install -U -q PyDrive\n",
        "from pydrive.auth import GoogleAuth\n",
        "from pydrive.drive import GoogleDrive\n",
        "from google.colab import auth\n",
        "from oauth2client.client import GoogleCredentials\n",
        "# Authenticate and create the PyDrive client.\n",
        "auth.authenticate_user()\n",
        "gauth = GoogleAuth()\n",
        "gauth.credentials = GoogleCredentials.get_application_default()\n",
        "drive = GoogleDrive(gauth)"
      ],
      "execution_count": 0,
      "outputs": [
        {
          "output_type": "stream",
          "text": [
            "\u001b[?25l\r\u001b[K    1% |▎                               | 10kB 19.1MB/s eta 0:00:01\r\u001b[K    2% |▋                               | 20kB 3.2MB/s eta 0:00:01\r\u001b[K    3% |█                               | 30kB 4.6MB/s eta 0:00:01\r\u001b[K    4% |█▎                              | 40kB 3.0MB/s eta 0:00:01\r\u001b[K    5% |█▋                              | 51kB 3.6MB/s eta 0:00:01\r\u001b[K    6% |██                              | 61kB 4.3MB/s eta 0:00:01\r\u001b[K    7% |██▎                             | 71kB 4.9MB/s eta 0:00:01\r\u001b[K    8% |██▋                             | 81kB 5.5MB/s eta 0:00:01\r\u001b[K    9% |███                             | 92kB 6.1MB/s eta 0:00:01\r\u001b[K    10% |███▎                            | 102kB 4.9MB/s eta 0:00:01\r\u001b[K    11% |███▋                            | 112kB 4.9MB/s eta 0:00:01\r\u001b[K    12% |████                            | 122kB 6.7MB/s eta 0:00:01\r\u001b[K    13% |████▎                           | 133kB 6.7MB/s eta 0:00:01\r\u001b[K    14% |████▋                           | 143kB 12.3MB/s eta 0:00:01\r\u001b[K    15% |█████                           | 153kB 12.5MB/s eta 0:00:01\r\u001b[K    16% |█████▎                          | 163kB 12.5MB/s eta 0:00:01\r\u001b[K    17% |█████▋                          | 174kB 12.8MB/s eta 0:00:01\r\u001b[K    18% |██████                          | 184kB 13.1MB/s eta 0:00:01\r\u001b[K    19% |██████▎                         | 194kB 13.1MB/s eta 0:00:01\r\u001b[K    20% |██████▋                         | 204kB 43.0MB/s eta 0:00:01\r\u001b[K    21% |███████                         | 215kB 14.5MB/s eta 0:00:01\r\u001b[K    22% |███████▎                        | 225kB 14.5MB/s eta 0:00:01\r\u001b[K    23% |███████▋                        | 235kB 14.6MB/s eta 0:00:01\r\u001b[K    24% |████████                        | 245kB 14.7MB/s eta 0:00:01\r\u001b[K    25% |████████▎                       | 256kB 14.7MB/s eta 0:00:01\r\u001b[K    26% |████████▋                       | 266kB 14.1MB/s eta 0:00:01\r\u001b[K    27% |█████████                       | 276kB 14.3MB/s eta 0:00:01\r\u001b[K    29% |█████████▎                      | 286kB 14.3MB/s eta 0:00:01\r\u001b[K    30% |█████████▋                      | 296kB 14.3MB/s eta 0:00:01\r\u001b[K    31% |██████████                      | 307kB 15.0MB/s eta 0:00:01\r\u001b[K    32% |██████████▎                     | 317kB 50.1MB/s eta 0:00:01\r\u001b[K    33% |██████████▋                     | 327kB 51.3MB/s eta 0:00:01\r\u001b[K    34% |███████████                     | 337kB 53.0MB/s eta 0:00:01\r\u001b[K    35% |███████████▎                    | 348kB 47.4MB/s eta 0:00:01\r\u001b[K    36% |███████████▋                    | 358kB 46.8MB/s eta 0:00:01\r\u001b[K    37% |████████████                    | 368kB 53.4MB/s eta 0:00:01\r\u001b[K    38% |████████████▎                   | 378kB 52.8MB/s eta 0:00:01\r\u001b[K    39% |████████████▋                   | 389kB 52.3MB/s eta 0:00:01\r\u001b[K    40% |█████████████                   | 399kB 18.4MB/s eta 0:00:01\r\u001b[K    41% |█████████████▎                  | 409kB 18.0MB/s eta 0:00:01\r\u001b[K    42% |█████████████▋                  | 419kB 17.9MB/s eta 0:00:01\r\u001b[K    43% |██████████████                  | 430kB 17.7MB/s eta 0:00:01\r\u001b[K    44% |██████████████▎                 | 440kB 17.7MB/s eta 0:00:01\r\u001b[K    45% |██████████████▋                 | 450kB 17.9MB/s eta 0:00:01\r\u001b[K    46% |███████████████                 | 460kB 17.9MB/s eta 0:00:01\r\u001b[K    47% |███████████████▎                | 471kB 18.1MB/s eta 0:00:01\r\u001b[K    48% |███████████████▋                | 481kB 18.2MB/s eta 0:00:01\r\u001b[K    49% |████████████████                | 491kB 18.3MB/s eta 0:00:01\r\u001b[K    50% |████████████████▎               | 501kB 51.3MB/s eta 0:00:01\r\u001b[K    51% |████████████████▋               | 512kB 49.0MB/s eta 0:00:01\r\u001b[K    52% |█████████████████               | 522kB 50.2MB/s eta 0:00:01\r\u001b[K    53% |█████████████████▎              | 532kB 52.0MB/s eta 0:00:01\r\u001b[K    54% |█████████████████▋              | 542kB 52.5MB/s eta 0:00:01\r\u001b[K    55% |██████████████████              | 552kB 59.9MB/s eta 0:00:01\r\u001b[K    57% |██████████████████▎             | 563kB 60.0MB/s eta 0:00:01\r\u001b[K    58% |██████████████████▋             | 573kB 58.4MB/s eta 0:00:01\r\u001b[K    59% |███████████████████             | 583kB 58.5MB/s eta 0:00:01\r\u001b[K    60% |███████████████████▎            | 593kB 58.1MB/s eta 0:00:01\r\u001b[K    61% |███████████████████▋            | 604kB 57.7MB/s eta 0:00:01\r\u001b[K    62% |████████████████████            | 614kB 64.9MB/s eta 0:00:01\r\u001b[K    63% |████████████████████▎           | 624kB 63.6MB/s eta 0:00:01\r\u001b[K    64% |████████████████████▋           | 634kB 62.2MB/s eta 0:00:01\r\u001b[K    65% |█████████████████████           | 645kB 61.1MB/s eta 0:00:01\r\u001b[K    66% |█████████████████████▎          | 655kB 59.2MB/s eta 0:00:01\r\u001b[K    67% |█████████████████████▋          | 665kB 45.3MB/s eta 0:00:01\r\u001b[K    68% |██████████████████████          | 675kB 45.3MB/s eta 0:00:01\r\u001b[K    69% |██████████████████████▎         | 686kB 45.2MB/s eta 0:00:01\r\u001b[K    70% |██████████████████████▋         | 696kB 45.9MB/s eta 0:00:01\r\u001b[K    71% |███████████████████████         | 706kB 46.4MB/s eta 0:00:01\r\u001b[K    72% |███████████████████████▎        | 716kB 46.4MB/s eta 0:00:01\r\u001b[K    73% |███████████████████████▋        | 727kB 46.9MB/s eta 0:00:01\r\u001b[K    74% |████████████████████████        | 737kB 47.0MB/s eta 0:00:01\r\u001b[K    75% |████████████████████████▎       | 747kB 47.2MB/s eta 0:00:01\r\u001b[K    76% |████████████████████████▋       | 757kB 47.3MB/s eta 0:00:01\r\u001b[K    77% |████████████████████████▉       | 768kB 62.3MB/s eta 0:00:01\r\u001b[K    78% |█████████████████████████▏      | 778kB 60.6MB/s eta 0:00:01\r\u001b[K    79% |█████████████████████████▌      | 788kB 59.6MB/s eta 0:00:01\r\u001b[K    80% |█████████████████████████▉      | 798kB 56.8MB/s eta 0:00:01\r\u001b[K    81% |██████████████████████████▏     | 808kB 55.1MB/s eta 0:00:01\r\u001b[K    82% |██████████████████████████▌     | 819kB 54.2MB/s eta 0:00:01\r\u001b[K    83% |██████████████████████████▉     | 829kB 54.7MB/s eta 0:00:01\r\u001b[K    85% |███████████████████████████▏    | 839kB 55.4MB/s eta 0:00:01\r\u001b[K    86% |███████████████████████████▌    | 849kB 55.5MB/s eta 0:00:01\r\u001b[K    87% |███████████████████████████▉    | 860kB 48.9MB/s eta 0:00:01\r\u001b[K    88% |████████████████████████████▏   | 870kB 48.8MB/s eta 0:00:01\r\u001b[K    89% |████████████████████████████▌   | 880kB 51.0MB/s eta 0:00:01\r\u001b[K    90% |████████████████████████████▉   | 890kB 52.3MB/s eta 0:00:01\r\u001b[K    91% |█████████████████████████████▏  | 901kB 54.2MB/s eta 0:00:01\r\u001b[K    92% |█████████████████████████████▌  | 911kB 55.3MB/s eta 0:00:01\r\u001b[K    93% |█████████████████████████████▉  | 921kB 56.4MB/s eta 0:00:01\r\u001b[K    94% |██████████████████████████████▏ | 931kB 55.6MB/s eta 0:00:01\r\u001b[K    95% |██████████████████████████████▌ | 942kB 55.5MB/s eta 0:00:01\r\u001b[K    96% |██████████████████████████████▉ | 952kB 55.9MB/s eta 0:00:01\r\u001b[K    97% |███████████████████████████████▏| 962kB 66.2MB/s eta 0:00:01\r\u001b[K    98% |███████████████████████████████▌| 972kB 67.5MB/s eta 0:00:01\r\u001b[K    99% |███████████████████████████████▉| 983kB 65.3MB/s eta 0:00:01\r\u001b[K    100% |████████████████████████████████| 993kB 20.6MB/s \n",
            "\u001b[?25h  Building wheel for PyDrive (setup.py) ... \u001b[?25ldone\n",
            "\u001b[?25h"
          ],
          "name": "stdout"
        }
      ]
    },
    {
      "metadata": {
        "id": "oPLtSFuygsP0",
        "colab_type": "code",
        "colab": {}
      },
      "cell_type": "code",
      "source": [
        "link = 'https://drive.google.com/open?id=1pfodL1WlM9E7dAcdJjGvHQAguErdKq0w'"
      ],
      "execution_count": 0,
      "outputs": []
    },
    {
      "metadata": {
        "id": "6JG_YO-Tiaio",
        "colab_type": "code",
        "outputId": "254f8e4c-cc6b-436b-c0de-82b3666f4ed3",
        "colab": {
          "base_uri": "https://localhost:8080/",
          "height": 34
        }
      },
      "cell_type": "code",
      "source": [
        "fluff, id = link.split('=')\n",
        "print (id) # Verify that you have everything after '='"
      ],
      "execution_count": 0,
      "outputs": [
        {
          "output_type": "stream",
          "text": [
            "1pfodL1WlM9E7dAcdJjGvHQAguErdKq0w\n"
          ],
          "name": "stdout"
        }
      ]
    },
    {
      "metadata": {
        "id": "NY7C-stQjqxG",
        "colab_type": "code",
        "colab": {}
      },
      "cell_type": "code",
      "source": [
        "downloaded = drive.CreateFile({'id':id}) \n",
        "downloaded.GetContentFile('loan_prediction_train.csv')  "
      ],
      "execution_count": 0,
      "outputs": []
    },
    {
      "metadata": {
        "id": "GhvYCxpIkeIC",
        "colab_type": "code",
        "outputId": "bcde643e-e78a-40a7-e2cd-57bb871af907",
        "colab": {
          "base_uri": "https://localhost:8080/",
          "height": 34
        }
      },
      "cell_type": "code",
      "source": [
        "link2 = 'https://drive.google.com/open?id=10xG_K-91M2SHf0UdMiOy0MlVL7P3p9Hy'\n",
        "fluff, id2 = link2.split('=')\n",
        "print(id2)\n",
        "downloaded2 = drive.CreateFile({'id':id2}) \n",
        "downloaded2.GetContentFile('loan_prediction_test.csv')  \n"
      ],
      "execution_count": 0,
      "outputs": [
        {
          "output_type": "stream",
          "text": [
            "10xG_K-91M2SHf0UdMiOy0MlVL7P3p9Hy\n"
          ],
          "name": "stdout"
        }
      ]
    },
    {
      "metadata": {
        "id": "8F138QZTk51e",
        "colab_type": "code",
        "colab": {}
      },
      "cell_type": "code",
      "source": [
        "data_train = pd.read_csv('loan_prediction_train.csv')\n",
        "data_test = pd.read_csv('loan_prediction_test.csv')"
      ],
      "execution_count": 0,
      "outputs": []
    },
    {
      "metadata": {
        "id": "iWTtAtdQj4Kz",
        "colab_type": "code",
        "colab": {}
      },
      "cell_type": "code",
      "source": [
        "import numpy as np\n",
        "import pandas as pd\n",
        "from matplotlib import pyplot as plt\n",
        "%matplotlib inline"
      ],
      "execution_count": 0,
      "outputs": []
    },
    {
      "metadata": {
        "id": "bKx2QSXhj8e6",
        "colab_type": "code",
        "outputId": "5c7443de-9739-494d-c88d-367c4d9ebdab",
        "colab": {
          "base_uri": "https://localhost:8080/",
          "height": 34
        }
      },
      "cell_type": "code",
      "source": [
        "data_train.shape"
      ],
      "execution_count": 133,
      "outputs": [
        {
          "output_type": "execute_result",
          "data": {
            "text/plain": [
              "(614, 13)"
            ]
          },
          "metadata": {
            "tags": []
          },
          "execution_count": 133
        }
      ]
    },
    {
      "metadata": {
        "id": "pBmwdPJPlGEQ",
        "colab_type": "code",
        "outputId": "3a686500-ae11-4fc6-b812-cdddfd66fb22",
        "colab": {
          "base_uri": "https://localhost:8080/",
          "height": 34
        }
      },
      "cell_type": "code",
      "source": [
        "data_test.shape"
      ],
      "execution_count": 134,
      "outputs": [
        {
          "output_type": "execute_result",
          "data": {
            "text/plain": [
              "(367, 12)"
            ]
          },
          "metadata": {
            "tags": []
          },
          "execution_count": 134
        }
      ]
    },
    {
      "metadata": {
        "id": "0P-fh_9zlIBx",
        "colab_type": "code",
        "outputId": "a56b6431-99be-4168-f7f4-5af6e1b28a8b",
        "colab": {
          "base_uri": "https://localhost:8080/",
          "height": 241
        }
      },
      "cell_type": "code",
      "source": [
        "data_train.head()"
      ],
      "execution_count": 135,
      "outputs": [
        {
          "output_type": "execute_result",
          "data": {
            "text/html": [
              "<div>\n",
              "<style scoped>\n",
              "    .dataframe tbody tr th:only-of-type {\n",
              "        vertical-align: middle;\n",
              "    }\n",
              "\n",
              "    .dataframe tbody tr th {\n",
              "        vertical-align: top;\n",
              "    }\n",
              "\n",
              "    .dataframe thead th {\n",
              "        text-align: right;\n",
              "    }\n",
              "</style>\n",
              "<table border=\"1\" class=\"dataframe\">\n",
              "  <thead>\n",
              "    <tr style=\"text-align: right;\">\n",
              "      <th></th>\n",
              "      <th>Loan_ID</th>\n",
              "      <th>Gender</th>\n",
              "      <th>Married</th>\n",
              "      <th>Dependents</th>\n",
              "      <th>Education</th>\n",
              "      <th>Self_Employed</th>\n",
              "      <th>ApplicantIncome</th>\n",
              "      <th>CoapplicantIncome</th>\n",
              "      <th>LoanAmount</th>\n",
              "      <th>Loan_Amount_Term</th>\n",
              "      <th>Credit_History</th>\n",
              "      <th>Property_Area</th>\n",
              "      <th>Loan_Status</th>\n",
              "    </tr>\n",
              "  </thead>\n",
              "  <tbody>\n",
              "    <tr>\n",
              "      <th>0</th>\n",
              "      <td>LP001002</td>\n",
              "      <td>Male</td>\n",
              "      <td>No</td>\n",
              "      <td>0</td>\n",
              "      <td>Graduate</td>\n",
              "      <td>No</td>\n",
              "      <td>5849</td>\n",
              "      <td>0.0</td>\n",
              "      <td>NaN</td>\n",
              "      <td>360.0</td>\n",
              "      <td>1.0</td>\n",
              "      <td>Urban</td>\n",
              "      <td>Y</td>\n",
              "    </tr>\n",
              "    <tr>\n",
              "      <th>1</th>\n",
              "      <td>LP001003</td>\n",
              "      <td>Male</td>\n",
              "      <td>Yes</td>\n",
              "      <td>1</td>\n",
              "      <td>Graduate</td>\n",
              "      <td>No</td>\n",
              "      <td>4583</td>\n",
              "      <td>1508.0</td>\n",
              "      <td>128.0</td>\n",
              "      <td>360.0</td>\n",
              "      <td>1.0</td>\n",
              "      <td>Rural</td>\n",
              "      <td>N</td>\n",
              "    </tr>\n",
              "    <tr>\n",
              "      <th>2</th>\n",
              "      <td>LP001005</td>\n",
              "      <td>Male</td>\n",
              "      <td>Yes</td>\n",
              "      <td>0</td>\n",
              "      <td>Graduate</td>\n",
              "      <td>Yes</td>\n",
              "      <td>3000</td>\n",
              "      <td>0.0</td>\n",
              "      <td>66.0</td>\n",
              "      <td>360.0</td>\n",
              "      <td>1.0</td>\n",
              "      <td>Urban</td>\n",
              "      <td>Y</td>\n",
              "    </tr>\n",
              "    <tr>\n",
              "      <th>3</th>\n",
              "      <td>LP001006</td>\n",
              "      <td>Male</td>\n",
              "      <td>Yes</td>\n",
              "      <td>0</td>\n",
              "      <td>Not Graduate</td>\n",
              "      <td>No</td>\n",
              "      <td>2583</td>\n",
              "      <td>2358.0</td>\n",
              "      <td>120.0</td>\n",
              "      <td>360.0</td>\n",
              "      <td>1.0</td>\n",
              "      <td>Urban</td>\n",
              "      <td>Y</td>\n",
              "    </tr>\n",
              "    <tr>\n",
              "      <th>4</th>\n",
              "      <td>LP001008</td>\n",
              "      <td>Male</td>\n",
              "      <td>No</td>\n",
              "      <td>0</td>\n",
              "      <td>Graduate</td>\n",
              "      <td>No</td>\n",
              "      <td>6000</td>\n",
              "      <td>0.0</td>\n",
              "      <td>141.0</td>\n",
              "      <td>360.0</td>\n",
              "      <td>1.0</td>\n",
              "      <td>Urban</td>\n",
              "      <td>Y</td>\n",
              "    </tr>\n",
              "  </tbody>\n",
              "</table>\n",
              "</div>"
            ],
            "text/plain": [
              "    Loan_ID Gender Married Dependents     Education Self_Employed  \\\n",
              "0  LP001002   Male      No          0      Graduate            No   \n",
              "1  LP001003   Male     Yes          1      Graduate            No   \n",
              "2  LP001005   Male     Yes          0      Graduate           Yes   \n",
              "3  LP001006   Male     Yes          0  Not Graduate            No   \n",
              "4  LP001008   Male      No          0      Graduate            No   \n",
              "\n",
              "   ApplicantIncome  CoapplicantIncome  LoanAmount  Loan_Amount_Term  \\\n",
              "0             5849                0.0         NaN             360.0   \n",
              "1             4583             1508.0       128.0             360.0   \n",
              "2             3000                0.0        66.0             360.0   \n",
              "3             2583             2358.0       120.0             360.0   \n",
              "4             6000                0.0       141.0             360.0   \n",
              "\n",
              "   Credit_History Property_Area Loan_Status  \n",
              "0             1.0         Urban           Y  \n",
              "1             1.0         Rural           N  \n",
              "2             1.0         Urban           Y  \n",
              "3             1.0         Urban           Y  \n",
              "4             1.0         Urban           Y  "
            ]
          },
          "metadata": {
            "tags": []
          },
          "execution_count": 135
        }
      ]
    },
    {
      "metadata": {
        "id": "aDSRkGtvly7E",
        "colab_type": "code",
        "outputId": "40c6e22a-1a5f-4f53-e489-1315d3f3a3ca",
        "colab": {
          "base_uri": "https://localhost:8080/",
          "height": 297
        }
      },
      "cell_type": "code",
      "source": [
        "\n",
        "\n",
        "data_train.describe()"
      ],
      "execution_count": 136,
      "outputs": [
        {
          "output_type": "execute_result",
          "data": {
            "text/html": [
              "<div>\n",
              "<style scoped>\n",
              "    .dataframe tbody tr th:only-of-type {\n",
              "        vertical-align: middle;\n",
              "    }\n",
              "\n",
              "    .dataframe tbody tr th {\n",
              "        vertical-align: top;\n",
              "    }\n",
              "\n",
              "    .dataframe thead th {\n",
              "        text-align: right;\n",
              "    }\n",
              "</style>\n",
              "<table border=\"1\" class=\"dataframe\">\n",
              "  <thead>\n",
              "    <tr style=\"text-align: right;\">\n",
              "      <th></th>\n",
              "      <th>ApplicantIncome</th>\n",
              "      <th>CoapplicantIncome</th>\n",
              "      <th>LoanAmount</th>\n",
              "      <th>Loan_Amount_Term</th>\n",
              "      <th>Credit_History</th>\n",
              "    </tr>\n",
              "  </thead>\n",
              "  <tbody>\n",
              "    <tr>\n",
              "      <th>count</th>\n",
              "      <td>614.000000</td>\n",
              "      <td>614.000000</td>\n",
              "      <td>592.000000</td>\n",
              "      <td>600.00000</td>\n",
              "      <td>564.000000</td>\n",
              "    </tr>\n",
              "    <tr>\n",
              "      <th>mean</th>\n",
              "      <td>5403.459283</td>\n",
              "      <td>1621.245798</td>\n",
              "      <td>146.412162</td>\n",
              "      <td>342.00000</td>\n",
              "      <td>0.842199</td>\n",
              "    </tr>\n",
              "    <tr>\n",
              "      <th>std</th>\n",
              "      <td>6109.041673</td>\n",
              "      <td>2926.248369</td>\n",
              "      <td>85.587325</td>\n",
              "      <td>65.12041</td>\n",
              "      <td>0.364878</td>\n",
              "    </tr>\n",
              "    <tr>\n",
              "      <th>min</th>\n",
              "      <td>150.000000</td>\n",
              "      <td>0.000000</td>\n",
              "      <td>9.000000</td>\n",
              "      <td>12.00000</td>\n",
              "      <td>0.000000</td>\n",
              "    </tr>\n",
              "    <tr>\n",
              "      <th>25%</th>\n",
              "      <td>2877.500000</td>\n",
              "      <td>0.000000</td>\n",
              "      <td>100.000000</td>\n",
              "      <td>360.00000</td>\n",
              "      <td>1.000000</td>\n",
              "    </tr>\n",
              "    <tr>\n",
              "      <th>50%</th>\n",
              "      <td>3812.500000</td>\n",
              "      <td>1188.500000</td>\n",
              "      <td>128.000000</td>\n",
              "      <td>360.00000</td>\n",
              "      <td>1.000000</td>\n",
              "    </tr>\n",
              "    <tr>\n",
              "      <th>75%</th>\n",
              "      <td>5795.000000</td>\n",
              "      <td>2297.250000</td>\n",
              "      <td>168.000000</td>\n",
              "      <td>360.00000</td>\n",
              "      <td>1.000000</td>\n",
              "    </tr>\n",
              "    <tr>\n",
              "      <th>max</th>\n",
              "      <td>81000.000000</td>\n",
              "      <td>41667.000000</td>\n",
              "      <td>700.000000</td>\n",
              "      <td>480.00000</td>\n",
              "      <td>1.000000</td>\n",
              "    </tr>\n",
              "  </tbody>\n",
              "</table>\n",
              "</div>"
            ],
            "text/plain": [
              "       ApplicantIncome  CoapplicantIncome  LoanAmount  Loan_Amount_Term  \\\n",
              "count       614.000000         614.000000  592.000000         600.00000   \n",
              "mean       5403.459283        1621.245798  146.412162         342.00000   \n",
              "std        6109.041673        2926.248369   85.587325          65.12041   \n",
              "min         150.000000           0.000000    9.000000          12.00000   \n",
              "25%        2877.500000           0.000000  100.000000         360.00000   \n",
              "50%        3812.500000        1188.500000  128.000000         360.00000   \n",
              "75%        5795.000000        2297.250000  168.000000         360.00000   \n",
              "max       81000.000000       41667.000000  700.000000         480.00000   \n",
              "\n",
              "       Credit_History  \n",
              "count      564.000000  \n",
              "mean         0.842199  \n",
              "std          0.364878  \n",
              "min          0.000000  \n",
              "25%          1.000000  \n",
              "50%          1.000000  \n",
              "75%          1.000000  \n",
              "max          1.000000  "
            ]
          },
          "metadata": {
            "tags": []
          },
          "execution_count": 136
        }
      ]
    },
    {
      "metadata": {
        "id": "fTjHm8BPl1no",
        "colab_type": "code",
        "outputId": "49d5e684-da9e-4658-e330-1e0955591429",
        "colab": {
          "base_uri": "https://localhost:8080/",
          "height": 85
        }
      },
      "cell_type": "code",
      "source": [
        "data_train['Property_Area'].value_counts()"
      ],
      "execution_count": 137,
      "outputs": [
        {
          "output_type": "execute_result",
          "data": {
            "text/plain": [
              "Semiurban    233\n",
              "Urban        202\n",
              "Rural        179\n",
              "Name: Property_Area, dtype: int64"
            ]
          },
          "metadata": {
            "tags": []
          },
          "execution_count": 137
        }
      ]
    },
    {
      "metadata": {
        "id": "P8XBX50mn4W_",
        "colab_type": "text"
      },
      "cell_type": "markdown",
      "source": [
        "# **Distribution Analysis**"
      ]
    },
    {
      "metadata": {
        "id": "ZrrB61EEnCJO",
        "colab_type": "code",
        "colab": {
          "base_uri": "https://localhost:8080/",
          "height": 282
        },
        "outputId": "c734285b-889c-451c-e8cd-34fef3619770"
      },
      "cell_type": "code",
      "source": [
        "\n",
        "\n",
        "\n",
        "data_train['ApplicantIncome'].hist(bins=50)"
      ],
      "execution_count": 138,
      "outputs": [
        {
          "output_type": "execute_result",
          "data": {
            "text/plain": [
              "<matplotlib.axes._subplots.AxesSubplot at 0x7f1714b01390>"
            ]
          },
          "metadata": {
            "tags": []
          },
          "execution_count": 138
        },
        {
          "output_type": "display_data",
          "data": {
            "image/png": "[encoded data removed]",
            "text/plain": [
              "<Figure size 432x288 with 1 Axes>"
            ]
          },
          "metadata": {
            "tags": []
          }
        }
      ]
    },
    {
      "metadata": {
        "id": "7CcD1-kOn3v6",
        "colab_type": "code",
        "colab": {
          "base_uri": "https://localhost:8080/",
          "height": 282
        },
        "outputId": "7584f292-e3a8-4bb4-a753-9a6f51da01aa"
      },
      "cell_type": "code",
      "source": [
        "\n",
        "\n",
        "data_train.boxplot(column='ApplicantIncome')"
      ],
      "execution_count": 139,
      "outputs": [
        {
          "output_type": "execute_result",
          "data": {
            "text/plain": [
              "<matplotlib.axes._subplots.AxesSubplot at 0x7f171461e9e8>"
            ]
          },
          "metadata": {
            "tags": []
          },
          "execution_count": 139
        },
        {
          "output_type": "display_data",
          "data": {
            "image/png": "[encoded data removed]",
            "text/plain": [
              "<Figure size 432x288 with 1 Axes>"
            ]
          },
          "metadata": {
            "tags": []
          }
        }
      ]
    },
    {
      "metadata": {
        "id": "Pd5cH8rfqF4N",
        "colab_type": "code",
        "colab": {
          "base_uri": "https://localhost:8080/",
          "height": 318
        },
        "outputId": "1c3ce0ac-8686-4975-8169-6b9d0f7fbe1b"
      },
      "cell_type": "code",
      "source": [
        "\n",
        "data_train.boxplot(column='ApplicantIncome', by = 'Education')"
      ],
      "execution_count": 140,
      "outputs": [
        {
          "output_type": "execute_result",
          "data": {
            "text/plain": [
              "<matplotlib.axes._subplots.AxesSubplot at 0x7f1714579a90>"
            ]
          },
          "metadata": {
            "tags": []
          },
          "execution_count": 140
        },
        {
          "output_type": "display_data",
          "data": {
            "image/png": "[encoded data removed]",
            "text/plain": [
              "<Figure size 432x288 with 1 Axes>"
            ]
          },
          "metadata": {
            "tags": []
          }
        }
      ]
    },
    {
      "metadata": {
        "id": "r-NxxvS8qQ-U",
        "colab_type": "code",
        "colab": {
          "base_uri": "https://localhost:8080/",
          "height": 282
        },
        "outputId": "0be3e1d1-95ff-4c10-fac3-51c421d53f2f"
      },
      "cell_type": "code",
      "source": [
        "data_train['LoanAmount'].hist(bins=50)"
      ],
      "execution_count": 141,
      "outputs": [
        {
          "output_type": "execute_result",
          "data": {
            "text/plain": [
              "<matplotlib.axes._subplots.AxesSubplot at 0x7f171450cb00>"
            ]
          },
          "metadata": {
            "tags": []
          },
          "execution_count": 141
        },
        {
          "output_type": "display_data",
          "data": {
            "image/png": "[encoded data removed]",
            "text/plain": [
              "<Figure size 432x288 with 1 Axes>"
            ]
          },
          "metadata": {
            "tags": []
          }
        }
      ]
    },
    {
      "metadata": {
        "id": "AAOm9l4vqwQk",
        "colab_type": "code",
        "colab": {
          "base_uri": "https://localhost:8080/",
          "height": 282
        },
        "outputId": "e7158cfc-273e-47ec-a19e-312304942f08"
      },
      "cell_type": "code",
      "source": [
        "data_train.boxplot(column='LoanAmount')"
      ],
      "execution_count": 142,
      "outputs": [
        {
          "output_type": "execute_result",
          "data": {
            "text/plain": [
              "<matplotlib.axes._subplots.AxesSubplot at 0x7f17144a2630>"
            ]
          },
          "metadata": {
            "tags": []
          },
          "execution_count": 142
        },
        {
          "output_type": "display_data",
          "data": {
            "image/png": "[encoded data removed]",
            "text/plain": [
              "<Figure size 432x288 with 1 Axes>"
            ]
          },
          "metadata": {
            "tags": []
          }
        }
      ]
    },
    {
      "metadata": {
        "id": "8wmV4OXJrKyN",
        "colab_type": "text"
      },
      "cell_type": "markdown",
      "source": [
        "# Categorical Variable Analysis"
      ]
    },
    {
      "metadata": {
        "id": "hNMepuPSq6yD",
        "colab_type": "code",
        "colab": {
          "base_uri": "https://localhost:8080/",
          "height": 187
        },
        "outputId": "9d144749-99b3-42a2-a9de-f42a62b76c06"
      },
      "cell_type": "code",
      "source": [
        "temp1 = data_train['Credit_History'].value_counts(ascending=True)\n",
        "temp2 = data_train.pivot_table(values=\"Loan_Status\", index=['Credit_History'], aggfunc=lambda x: x.map({'Y': 1, 'N': 0}).mean())\n",
        "print(\"Frequency Table for Credit History: \")\n",
        "print(temp1)\n",
        "\n",
        "print('\\nProbability of getting loan for each Credit History class: ')\n",
        "print(temp2)"
      ],
      "execution_count": 143,
      "outputs": [
        {
          "output_type": "stream",
          "text": [
            "Frequency Table for Credit History: \n",
            "0.0     89\n",
            "1.0    475\n",
            "Name: Credit_History, dtype: int64\n",
            "\n",
            "Probability of getting loan for each Credit History class: \n",
            "                Loan_Status\n",
            "Credit_History             \n",
            "0.0                0.078652\n",
            "1.0                0.795789\n"
          ],
          "name": "stdout"
        }
      ]
    },
    {
      "metadata": {
        "id": "PBs2OrP1sHay",
        "colab_type": "code",
        "colab": {
          "base_uri": "https://localhost:8080/",
          "height": 581
        },
        "outputId": "cfd273a2-81df-46b7-e106-7d17954fc15d"
      },
      "cell_type": "code",
      "source": [
        "fig = plt.figure(figsize=(8,4))\n",
        "ax1 = fig.add_subplot(121)\n",
        "ax1.set_xlabel('Credit_History')\n",
        "ax1.set_ylabel('Count of Applicants')\n",
        "ax1.set_title(\"Application by Credit_History\")\n",
        "temp1.plot(kind='bar')\n",
        "\n",
        "ax2 = fig.add_subplot(122)\n",
        "temp2.plot(kind='bar')\n",
        "ax2.set_xlabel('Credit_History')\n",
        "ax2.set_ylabel('Probability of getting loan')\n",
        "ax2.set_title('Probability fo getting loan by Credit_History')"
      ],
      "execution_count": 144,
      "outputs": [
        {
          "output_type": "execute_result",
          "data": {
            "text/plain": [
              "Text(0.5, 1.0, 'Probability fo getting loan by Credit_History')"
            ]
          },
          "metadata": {
            "tags": []
          },
          "execution_count": 144
        },
        {
          "output_type": "display_data",
          "data": {
            "image/png": "[encoded data removed]",
            "text/plain": [
              "<Figure size 576x288 with 2 Axes>"
            ]
          },
          "metadata": {
            "tags": []
          }
        },
        {
          "output_type": "display_data",
          "data": {
            "image/png": "[encoded data removed]",
            "text/plain": [
              "<Figure size 432x288 with 1 Axes>"
            ]
          },
          "metadata": {
            "tags": []
          }
        }
      ]
    },
    {
      "metadata": {
        "id": "LapWKeilt8uY",
        "colab_type": "code",
        "colab": {
          "base_uri": "https://localhost:8080/",
          "height": 300
        },
        "outputId": "1556f530-1c3a-40d8-9fb8-10fd10b7ce15"
      },
      "cell_type": "code",
      "source": [
        "temp3 = pd.crosstab(data_train['Credit_History'], data_train['Loan_Status'])\n",
        "temp3.plot(kind='bar', stacked=True, color=['red','blue'], grid = True)"
      ],
      "execution_count": 145,
      "outputs": [
        {
          "output_type": "execute_result",
          "data": {
            "text/plain": [
              "<matplotlib.axes._subplots.AxesSubplot at 0x7f1714424208>"
            ]
          },
          "metadata": {
            "tags": []
          },
          "execution_count": 145
        },
        {
          "output_type": "display_data",
          "data": {
            "image/png": "[encoded data removed]",
            "text/plain": [
              "<Figure size 432x288 with 1 Axes>"
            ]
          },
          "metadata": {
            "tags": []
          }
        }
      ]
    },
    {
      "metadata": {
        "id": "E2U80qf2v_YR",
        "colab_type": "text"
      },
      "cell_type": "markdown",
      "source": [
        "#Data Munging"
      ]
    },
    {
      "metadata": {
        "id": "ApKLXISVwD2M",
        "colab_type": "text"
      },
      "cell_type": "markdown",
      "source": [
        "**Check missing values in the dataset**\n",
        "\n",
        "---\n",
        "\n"
      ]
    },
    {
      "metadata": {
        "id": "gyPxrboXvAm3",
        "colab_type": "code",
        "colab": {
          "base_uri": "https://localhost:8080/",
          "height": 255
        },
        "outputId": "79e681e1-90b4-43ed-df37-65418f1308f9"
      },
      "cell_type": "code",
      "source": [
        "data_train.apply(lambda x: sum(x.isnull()), axis = 0)"
      ],
      "execution_count": 146,
      "outputs": [
        {
          "output_type": "execute_result",
          "data": {
            "text/plain": [
              "Loan_ID               0\n",
              "Gender               13\n",
              "Married               3\n",
              "Dependents           15\n",
              "Education             0\n",
              "Self_Employed        32\n",
              "ApplicantIncome       0\n",
              "CoapplicantIncome     0\n",
              "LoanAmount           22\n",
              "Loan_Amount_Term     14\n",
              "Credit_History       50\n",
              "Property_Area         0\n",
              "Loan_Status           0\n",
              "dtype: int64"
            ]
          },
          "metadata": {
            "tags": []
          },
          "execution_count": 146
        }
      ]
    },
    {
      "metadata": {
        "id": "EOONZnaQwWBJ",
        "colab_type": "code",
        "colab": {}
      },
      "cell_type": "code",
      "source": [
        "data_train['LoanAmount'].fillna(data_train['LoanAmount'].mean(), inplace= True)"
      ],
      "execution_count": 0,
      "outputs": []
    },
    {
      "metadata": {
        "id": "CfRfDRyQwvLj",
        "colab_type": "code",
        "colab": {
          "base_uri": "https://localhost:8080/",
          "height": 68
        },
        "outputId": "333ea6a9-731d-4cbe-fd17-4579186d14d5"
      },
      "cell_type": "code",
      "source": [
        "data_train['Self_Employed'].value_counts()"
      ],
      "execution_count": 148,
      "outputs": [
        {
          "output_type": "execute_result",
          "data": {
            "text/plain": [
              "No     500\n",
              "Yes     82\n",
              "Name: Self_Employed, dtype: int64"
            ]
          },
          "metadata": {
            "tags": []
          },
          "execution_count": 148
        }
      ]
    },
    {
      "metadata": {
        "id": "s25Gl18IxJi0",
        "colab_type": "code",
        "colab": {}
      },
      "cell_type": "code",
      "source": [
        "data_train['Self_Employed'].fillna('No', inplace=True)"
      ],
      "execution_count": 0,
      "outputs": []
    },
    {
      "metadata": {
        "id": "8hobsXp2xRy-",
        "colab_type": "code",
        "colab": {
          "base_uri": "https://localhost:8080/",
          "height": 34
        },
        "outputId": "a23774c6-38ba-4cb0-d4bd-8767bd0d4996"
      },
      "cell_type": "code",
      "source": [
        "data_train['LoanAmount'].median()"
      ],
      "execution_count": 150,
      "outputs": [
        {
          "output_type": "execute_result",
          "data": {
            "text/plain": [
              "129.0"
            ]
          },
          "metadata": {
            "tags": []
          },
          "execution_count": 150
        }
      ]
    },
    {
      "metadata": {
        "id": "NZPJqMg7yIVc",
        "colab_type": "code",
        "colab": {}
      },
      "cell_type": "code",
      "source": [
        "data_train['LoanAmount'].fillna(data_train['LoanAmount'].median(), inplace = True)"
      ],
      "execution_count": 0,
      "outputs": []
    },
    {
      "metadata": {
        "id": "v8-O2efizyzW",
        "colab_type": "code",
        "colab": {
          "base_uri": "https://localhost:8080/",
          "height": 282
        },
        "outputId": "ee4ba6e5-31a2-4eea-f1c3-a5c8bb7b3eec"
      },
      "cell_type": "code",
      "source": [
        "data_train['LoanAmount_log'] = np.log(data_train['LoanAmount'])\n",
        "data_train['LoanAmount_log'].hist(bins=20)"
      ],
      "execution_count": 152,
      "outputs": [
        {
          "output_type": "execute_result",
          "data": {
            "text/plain": [
              "<matplotlib.axes._subplots.AxesSubplot at 0x7f171432bfd0>"
            ]
          },
          "metadata": {
            "tags": []
          },
          "execution_count": 152
        },
        {
          "output_type": "display_data",
          "data": {
            "image/png": "[encoded data removed]",
            "text/plain": [
              "<Figure size 432x288 with 1 Axes>"
            ]
          },
          "metadata": {
            "tags": []
          }
        }
      ]
    },
    {
      "metadata": {
        "id": "sj7EevUK0O4n",
        "colab_type": "code",
        "colab": {
          "base_uri": "https://localhost:8080/",
          "height": 282
        },
        "outputId": "815c2535-e30f-4105-d46d-f786fab87ccb"
      },
      "cell_type": "code",
      "source": [
        "\n",
        "data_train['TotalIncome'] = data_train['ApplicantIncome'] + data_train['CoapplicantIncome']\n",
        "data_train['TotalIncome_log'] = np.log(data_train['TotalIncome'])\n",
        "data_train['LoanAmount_log'].hist(bins=20)"
      ],
      "execution_count": 153,
      "outputs": [
        {
          "output_type": "execute_result",
          "data": {
            "text/plain": [
              "<matplotlib.axes._subplots.AxesSubplot at 0x7f1714201278>"
            ]
          },
          "metadata": {
            "tags": []
          },
          "execution_count": 153
        },
        {
          "output_type": "display_data",
          "data": {
            "image/png": "[encoded data removed]",
            "text/plain": [
              "<Figure size 432x288 with 1 Axes>"
            ]
          },
          "metadata": {
            "tags": []
          }
        }
      ]
    },
    {
      "metadata": {
        "id": "dAGoEMdID9l5",
        "colab_type": "code",
        "colab": {}
      },
      "cell_type": "code",
      "source": [
        "data_train['Gender'].fillna(data_train['Gender'].mode()[0], inplace=True)\n",
        "data_train['Married'].fillna(data_train['Married'].mode()[0], inplace = True)\n",
        "data_train['Dependents'].fillna(data_train['Dependents'].mode()[0], inplace=True)\n",
        "data_train['Loan_Amount_Term'].fillna(data_train['Loan_Amount_Term'].mode()[0], inplace=True)\n",
        "data_train['Credit_History'].fillna(data_train['Credit_History'].mode()[0], inplace=True)"
      ],
      "execution_count": 0,
      "outputs": []
    },
    {
      "metadata": {
        "id": "2X4ZeY7Gdt5B",
        "colab_type": "code",
        "colab": {
          "base_uri": "https://localhost:8080/",
          "height": 306
        },
        "outputId": "b989aa18-b1cf-4afd-9331-87626d739b5c"
      },
      "cell_type": "code",
      "source": [
        "from sklearn.preprocessing import LabelEncoder\n",
        "var_mod = ['Gender', 'Married', 'Dependents', 'Education', 'Self_Employed', 'Property_Area', 'Loan_Status']\n",
        "le = LabelEncoder()\n",
        "for i in var_mod:\n",
        "  data_train[i] = le.fit_transform(data_train[i])\n",
        "data_train.dtypes"
      ],
      "execution_count": 155,
      "outputs": [
        {
          "output_type": "execute_result",
          "data": {
            "text/plain": [
              "Loan_ID               object\n",
              "Gender                 int64\n",
              "Married                int64\n",
              "Dependents             int64\n",
              "Education              int64\n",
              "Self_Employed          int64\n",
              "ApplicantIncome        int64\n",
              "CoapplicantIncome    float64\n",
              "LoanAmount           float64\n",
              "Loan_Amount_Term     float64\n",
              "Credit_History       float64\n",
              "Property_Area          int64\n",
              "Loan_Status            int64\n",
              "LoanAmount_log       float64\n",
              "TotalIncome          float64\n",
              "TotalIncome_log      float64\n",
              "dtype: object"
            ]
          },
          "metadata": {
            "tags": []
          },
          "execution_count": 155
        }
      ]
    },
    {
      "metadata": {
        "id": "O0D0dth7aRX7",
        "colab_type": "code",
        "colab": {}
      },
      "cell_type": "code",
      "source": [
        "data_train.drop(['Loan_ID'], inplace=True, axis = 1)"
      ],
      "execution_count": 0,
      "outputs": []
    },
    {
      "metadata": {
        "id": "n7mZV-6ieAAk",
        "colab_type": "code",
        "colab": {
          "base_uri": "https://localhost:8080/",
          "height": 224
        },
        "outputId": "22020c9c-354b-43b7-94af-e28f520d1e04"
      },
      "cell_type": "code",
      "source": [
        "data_train.head()"
      ],
      "execution_count": 162,
      "outputs": [
        {
          "output_type": "execute_result",
          "data": {
            "text/html": [
              "<div>\n",
              "<style scoped>\n",
              "    .dataframe tbody tr th:only-of-type {\n",
              "        vertical-align: middle;\n",
              "    }\n",
              "\n",
              "    .dataframe tbody tr th {\n",
              "        vertical-align: top;\n",
              "    }\n",
              "\n",
              "    .dataframe thead th {\n",
              "        text-align: right;\n",
              "    }\n",
              "</style>\n",
              "<table border=\"1\" class=\"dataframe\">\n",
              "  <thead>\n",
              "    <tr style=\"text-align: right;\">\n",
              "      <th></th>\n",
              "      <th>Gender</th>\n",
              "      <th>Married</th>\n",
              "      <th>Dependents</th>\n",
              "      <th>Education</th>\n",
              "      <th>Self_Employed</th>\n",
              "      <th>ApplicantIncome</th>\n",
              "      <th>CoapplicantIncome</th>\n",
              "      <th>LoanAmount</th>\n",
              "      <th>Loan_Amount_Term</th>\n",
              "      <th>Credit_History</th>\n",
              "      <th>Property_Area</th>\n",
              "      <th>Loan_Status</th>\n",
              "      <th>LoanAmount_log</th>\n",
              "      <th>TotalIncome</th>\n",
              "      <th>TotalIncome_log</th>\n",
              "    </tr>\n",
              "  </thead>\n",
              "  <tbody>\n",
              "    <tr>\n",
              "      <th>0</th>\n",
              "      <td>1</td>\n",
              "      <td>0</td>\n",
              "      <td>0</td>\n",
              "      <td>0</td>\n",
              "      <td>0</td>\n",
              "      <td>5849</td>\n",
              "      <td>0.0</td>\n",
              "      <td>146.412162</td>\n",
              "      <td>360.0</td>\n",
              "      <td>1.0</td>\n",
              "      <td>2</td>\n",
              "      <td>1</td>\n",
              "      <td>4.986426</td>\n",
              "      <td>5849.0</td>\n",
              "      <td>8.674026</td>\n",
              "    </tr>\n",
              "    <tr>\n",
              "      <th>1</th>\n",
              "      <td>1</td>\n",
              "      <td>1</td>\n",
              "      <td>1</td>\n",
              "      <td>0</td>\n",
              "      <td>0</td>\n",
              "      <td>4583</td>\n",
              "      <td>1508.0</td>\n",
              "      <td>128.000000</td>\n",
              "      <td>360.0</td>\n",
              "      <td>1.0</td>\n",
              "      <td>0</td>\n",
              "      <td>0</td>\n",
              "      <td>4.852030</td>\n",
              "      <td>6091.0</td>\n",
              "      <td>8.714568</td>\n",
              "    </tr>\n",
              "    <tr>\n",
              "      <th>2</th>\n",
              "      <td>1</td>\n",
              "      <td>1</td>\n",
              "      <td>0</td>\n",
              "      <td>0</td>\n",
              "      <td>1</td>\n",
              "      <td>3000</td>\n",
              "      <td>0.0</td>\n",
              "      <td>66.000000</td>\n",
              "      <td>360.0</td>\n",
              "      <td>1.0</td>\n",
              "      <td>2</td>\n",
              "      <td>1</td>\n",
              "      <td>4.189655</td>\n",
              "      <td>3000.0</td>\n",
              "      <td>8.006368</td>\n",
              "    </tr>\n",
              "    <tr>\n",
              "      <th>3</th>\n",
              "      <td>1</td>\n",
              "      <td>1</td>\n",
              "      <td>0</td>\n",
              "      <td>1</td>\n",
              "      <td>0</td>\n",
              "      <td>2583</td>\n",
              "      <td>2358.0</td>\n",
              "      <td>120.000000</td>\n",
              "      <td>360.0</td>\n",
              "      <td>1.0</td>\n",
              "      <td>2</td>\n",
              "      <td>1</td>\n",
              "      <td>4.787492</td>\n",
              "      <td>4941.0</td>\n",
              "      <td>8.505323</td>\n",
              "    </tr>\n",
              "    <tr>\n",
              "      <th>4</th>\n",
              "      <td>1</td>\n",
              "      <td>0</td>\n",
              "      <td>0</td>\n",
              "      <td>0</td>\n",
              "      <td>0</td>\n",
              "      <td>6000</td>\n",
              "      <td>0.0</td>\n",
              "      <td>141.000000</td>\n",
              "      <td>360.0</td>\n",
              "      <td>1.0</td>\n",
              "      <td>2</td>\n",
              "      <td>1</td>\n",
              "      <td>4.948760</td>\n",
              "      <td>6000.0</td>\n",
              "      <td>8.699515</td>\n",
              "    </tr>\n",
              "  </tbody>\n",
              "</table>\n",
              "</div>"
            ],
            "text/plain": [
              "   Gender  Married  Dependents  Education  Self_Employed  ApplicantIncome  \\\n",
              "0       1        0           0          0              0             5849   \n",
              "1       1        1           1          0              0             4583   \n",
              "2       1        1           0          0              1             3000   \n",
              "3       1        1           0          1              0             2583   \n",
              "4       1        0           0          0              0             6000   \n",
              "\n",
              "   CoapplicantIncome  LoanAmount  Loan_Amount_Term  Credit_History  \\\n",
              "0                0.0  146.412162             360.0             1.0   \n",
              "1             1508.0  128.000000             360.0             1.0   \n",
              "2                0.0   66.000000             360.0             1.0   \n",
              "3             2358.0  120.000000             360.0             1.0   \n",
              "4                0.0  141.000000             360.0             1.0   \n",
              "\n",
              "   Property_Area  Loan_Status  LoanAmount_log  TotalIncome  TotalIncome_log  \n",
              "0              2            1        4.986426       5849.0         8.674026  \n",
              "1              0            0        4.852030       6091.0         8.714568  \n",
              "2              2            1        4.189655       3000.0         8.006368  \n",
              "3              2            1        4.787492       4941.0         8.505323  \n",
              "4              2            1        4.948760       6000.0         8.699515  "
            ]
          },
          "metadata": {
            "tags": []
          },
          "execution_count": 162
        }
      ]
    },
    {
      "metadata": {
        "id": "47b7NRInhKWx",
        "colab_type": "code",
        "colab": {
          "base_uri": "https://localhost:8080/",
          "height": 163
        },
        "outputId": "dc6854d5-ab16-4205-9b5d-6b71e500bc8b"
      },
      "cell_type": "code",
      "source": [
        "data_train2 = data_train.copy"
      ],
      "execution_count": 168,
      "outputs": [
        {
          "output_type": "error",
          "ename": "TypeError",
          "evalue": "ignored",
          "traceback": [
            "\u001b[0;31m---------------------------------------------------------------------------\u001b[0m",
            "\u001b[0;31mTypeError\u001b[0m                                 Traceback (most recent call last)",
            "\u001b[0;32m<ipython-input-168-a84336e8f89d>\u001b[0m in \u001b[0;36m<module>\u001b[0;34m()\u001b[0m\n\u001b[0;32m----> 1\u001b[0;31m \u001b[0mdata_train2\u001b[0m \u001b[0;34m=\u001b[0m \u001b[0mdata_train\u001b[0m\u001b[0;34m(\u001b[0m\u001b[0;34m[\u001b[0m\u001b[0;34m'Gender'\u001b[0m\u001b[0;34m]\u001b[0m\u001b[0;34m,\u001b[0m \u001b[0;34m[\u001b[0m\u001b[0;34m'Married'\u001b[0m\u001b[0;34m]\u001b[0m\u001b[0;34m)\u001b[0m\u001b[0;34m\u001b[0m\u001b[0;34m\u001b[0m\u001b[0m\n\u001b[0m",
            "\u001b[0;31mTypeError\u001b[0m: 'DataFrame' object is not callable"
          ]
        }
      ]
    },
    {
      "metadata": {
        "id": "KKp4yeyreEVv",
        "colab_type": "code",
        "colab": {
          "base_uri": "https://localhost:8080/",
          "height": 289
        },
        "outputId": "85c437d0-7716-454f-f098-7c2f0ef39cfb"
      },
      "cell_type": "code",
      "source": [
        "data_train.isnull().sum()"
      ],
      "execution_count": 164,
      "outputs": [
        {
          "output_type": "execute_result",
          "data": {
            "text/plain": [
              "Gender               0\n",
              "Married              0\n",
              "Dependents           0\n",
              "Education            0\n",
              "Self_Employed        0\n",
              "ApplicantIncome      0\n",
              "CoapplicantIncome    0\n",
              "LoanAmount           0\n",
              "Loan_Amount_Term     0\n",
              "Credit_History       0\n",
              "Property_Area        0\n",
              "Loan_Status          0\n",
              "LoanAmount_log       0\n",
              "TotalIncome          0\n",
              "TotalIncome_log      0\n",
              "dtype: int64"
            ]
          },
          "metadata": {
            "tags": []
          },
          "execution_count": 164
        }
      ]
    },
    {
      "metadata": {
        "id": "-TihzbDYNk13",
        "colab_type": "text"
      },
      "cell_type": "markdown",
      "source": [
        "# Prediction"
      ]
    },
    {
      "metadata": {
        "id": "TpNt-6KBONLW",
        "colab_type": "code",
        "colab": {}
      },
      "cell_type": "code",
      "source": [
        "from sklearn.linear_model import LogisticRegression\n",
        "from sklearn.ensemble import RandomForestClassifier\n",
        "from sklearn.tree import DecisionTreeClassifier, export_graphviz\n",
        "from sklearn import metrics\n",
        "from sklearn.model_selection import cross_val_score\n",
        "from sklearn.model_selection import KFold\n",
        "\n",
        "def classification_model(model, data, predictors, outcome):\n",
        "  model.fit(data[predictors], data[outcome])\n",
        "  \n",
        "  predictions = model.predict(data[predictors])\n",
        "  \n",
        "  accuracy = metrics.accuracy_score(predictions, data[outcome])\n",
        "  print (\"Accuracy : %s\" % \"{0:.3%}\".format(accuracy))\n",
        "  error = []\n",
        "  kf = KFold(5,shuffle=False)\n",
        "  for train, test in kf.split(data[predictors]):\n",
        "    # Filter training data\n",
        "    train_predictors = (data[predictors].iloc[train,:])\n",
        "    \n",
        "    # The target we're using to train the algorithm.\n",
        "    train_target = data[outcome].iloc[train]\n",
        "    \n",
        "    # Training the algorithm using the predictors and target.\n",
        "    model.fit(train_predictors, train_target)\n",
        "    error.append(model.score(data[predictors].iloc[test,:], data[outcome].iloc[test]))\n",
        "  print(\"Cross-Validation Score : %s\" % \"{0:.3%}\".format(np.mean(error)))"
      ],
      "execution_count": 0,
      "outputs": []
    },
    {
      "metadata": {
        "id": "yTp9OB29l_jC",
        "colab_type": "code",
        "colab": {}
      },
      "cell_type": "code",
      "source": [
        "# import warnings filter\n",
        "from warnings import simplefilter\n",
        "# ignore all future warnings\n",
        "simplefilter(action='ignore', category=FutureWarning)"
      ],
      "execution_count": 0,
      "outputs": []
    },
    {
      "metadata": {
        "id": "5b-l4hHrgGm_",
        "colab_type": "code",
        "colab": {
          "base_uri": "https://localhost:8080/",
          "height": 51
        },
        "outputId": "25e8e75e-9b59-4987-c586-7e034f151f5d"
      },
      "cell_type": "code",
      "source": [
        "outcome_var = 'Loan_Status'\n",
        "model = LogisticRegression()\n",
        "predictor_var = ['Credit_History']\n",
        "classification_model(model, data_train,predictor_var,outcome_var)"
      ],
      "execution_count": 184,
      "outputs": [
        {
          "output_type": "stream",
          "text": [
            "Accuracy : 80.945%\n",
            "Cross-Validation Score : 80.946%\n"
          ],
          "name": "stdout"
        }
      ]
    },
    {
      "metadata": {
        "id": "ieHRHDnKeusE",
        "colab_type": "code",
        "colab": {
          "base_uri": "https://localhost:8080/",
          "height": 51
        },
        "outputId": "18bf0393-9875-40bc-ceaa-d5a5f254ae34"
      },
      "cell_type": "code",
      "source": [
        "model = RandomForestClassifier(n_estimators=100)\n",
        "predictor_var = ['Gender', 'Married', 'Dependents', 'Education',\n",
        "       'Self_Employed', 'Loan_Amount_Term', 'Credit_History', 'Property_Area',\n",
        "        'LoanAmount_log','TotalIncome_log']\n",
        "classification_model(model, data_train,predictor_var,outcome_var)"
      ],
      "execution_count": 185,
      "outputs": [
        {
          "output_type": "stream",
          "text": [
            "Accuracy : 100.000%\n",
            "Cross-Validation Score : 77.202%\n"
          ],
          "name": "stdout"
        }
      ]
    },
    {
      "metadata": {
        "id": "ZW9864QTQjBH",
        "colab_type": "code",
        "colab": {
          "base_uri": "https://localhost:8080/",
          "height": 204
        },
        "outputId": "e5058de4-5973-40b8-81b3-1dc3ca4d7e21"
      },
      "cell_type": "code",
      "source": [
        "#Create a series with feature importances:\n",
        "featimp = pd.Series(model.feature_importances_, index=predictor_var).sort_values(ascending=False)\n",
        "print(featimp)"
      ],
      "execution_count": 186,
      "outputs": [
        {
          "output_type": "stream",
          "text": [
            "TotalIncome_log     0.269349\n",
            "Credit_History      0.241946\n",
            "LoanAmount_log      0.236780\n",
            "Property_Area       0.055977\n",
            "Dependents          0.052371\n",
            "Loan_Amount_Term    0.045275\n",
            "Married             0.027426\n",
            "Education           0.024890\n",
            "Gender              0.023476\n",
            "Self_Employed       0.022511\n",
            "dtype: float64\n"
          ],
          "name": "stdout"
        }
      ]
    },
    {
      "metadata": {
        "id": "hw4hKMnEYQ35",
        "colab_type": "code",
        "colab": {
          "base_uri": "https://localhost:8080/",
          "height": 689
        },
        "outputId": "834d5f04-0f69-44a0-f91d-becf798f276f"
      },
      "cell_type": "code",
      "source": [
        "featimp.plot(kind='bar', figsize=(10, 10))"
      ],
      "execution_count": 189,
      "outputs": [
        {
          "output_type": "execute_result",
          "data": {
            "text/plain": [
              "<matplotlib.axes._subplots.AxesSubplot at 0x7f171412f3c8>"
            ]
          },
          "metadata": {
            "tags": []
          },
          "execution_count": 189
        },
        {
          "output_type": "display_data",
          "data": {
            "image/png": "[encoded data removed]",
            "text/plain": [
              "<Figure size 720x720 with 1 Axes>"
            ]
          },
          "metadata": {
            "tags": []
          }
        }
      ]
    },
    {
      "metadata": {
        "id": "dFWYxPUWo3-w",
        "colab_type": "text"
      },
      "cell_type": "markdown",
      "source": [
        "**Using the top 5 features**"
      ]
    },
    {
      "metadata": {
        "id": "lFGVFLPUWq3s",
        "colab_type": "code",
        "colab": {
          "base_uri": "https://localhost:8080/",
          "height": 51
        },
        "outputId": "ec874131-1981-4c2c-ce44-fd117cd3c06c"
      },
      "cell_type": "code",
      "source": [
        "model = RandomForestClassifier(n_estimators=25, min_samples_split=25, max_depth=7, max_features=1)\n",
        "predictor_var = ['TotalIncome_log','LoanAmount_log','Credit_History','Dependents','Property_Area']\n",
        "classification_model(model, data_train, predictor_var, outcome_var)"
      ],
      "execution_count": 193,
      "outputs": [
        {
          "output_type": "stream",
          "text": [
            "Accuracy : 83.225%\n",
            "Cross-Validation Score : 80.621%\n"
          ],
          "name": "stdout"
        }
      ]
    },
    {
      "metadata": {
        "id": "7mkjxdLgpRgt",
        "colab_type": "text"
      },
      "cell_type": "markdown",
      "source": [
        "The accuracy of the model reduced but the Cross-Validation score is improving showing that the model generalizes well."
      ]
    }
  ]
}